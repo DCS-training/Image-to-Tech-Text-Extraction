{
  "nbformat": 4,
  "nbformat_minor": 0,
  "metadata": {
    "colab": {
      "provenance": [],
      "toc_visible": true
    },
    "kernelspec": {
      "name": "python3",
      "display_name": "Python 3"
    },
    "language_info": {
      "name": "python"
    }
  },
  "cells": [
    {
      "cell_type": "markdown",
      "source": [
        "\n",
        "# **Image to Tech: Introduction to Text Extraction**\n",
        "\n",
        "This resource is designed to introduce you to the basics of text extraction with no coding background required and will include:\n",
        "\n",
        "*   An introduction to text extraction\n",
        "*   How text extraction works in practice\n",
        "*   How to approach text extraction processes\n"
      ],
      "metadata": {
        "id": "5LAarKZlJZBi"
      }
    },
    {
      "cell_type": "markdown",
      "source": [
        "This is a good presursor to the CDCS's OCR with Tesseract course available through [GitHub](https://github.com/DCS-training/OCR)."
      ],
      "metadata": {
        "id": "RhpIyqopKvzd"
      }
    },
    {
      "cell_type": "markdown",
      "source": [
        "![](https://images.pexels.com/photos/159751/book-address-book-learning-learn-159751.jpeg)"
      ],
      "metadata": {
        "id": "ZGpgsRCgfShl"
      }
    },
    {
      "cell_type": "markdown",
      "source": [
        "## ✏️ *Activity 1*\n",
        "\n",
        "*   Are you familiar with text extraction or OCR? What do you know already, and what do you hope to learn?  \n",
        "*   What tools have you used/do you plan to use in your work, and why?\n",
        "\n"
      ],
      "metadata": {
        "id": "XzpJkBHLM6Of"
      }
    },
    {
      "cell_type": "markdown",
      "source": [
        "*Write your answer here:*\n",
        "\n",
        "\n"
      ],
      "metadata": {
        "id": "qRhdu6g6QcG-"
      }
    },
    {
      "cell_type": "markdown",
      "source": [
        "# **What is Text Extraction?**\n",
        "\n",
        "Text extraction is a way of gaining machine-readable text from images or documents containing text."
      ],
      "metadata": {
        "id": "2sH-oL7VMt40"
      }
    },
    {
      "cell_type": "markdown",
      "source": [
        "The main method of text extraction is a process called OCR, which stands for **Optical Character Recognition**. OCR transforms written, typed or printed text into encoded text, which creates a machine-readable document that you can search, edit or analyse computationally, for example with text mining techniques.  "
      ],
      "metadata": {
        "id": "Gk-DcHSGO9RT"
      }
    },
    {
      "cell_type": "markdown",
      "source": [
        " This is a multi-step process and we'll examine this as we move through the lesson.\n",
        "\n",
        "\n",
        "*   **Document selection:** An image or text document needs to be selected to scan. Some document types or conditions may work better for this, so it is important to start with good quality images.\n",
        "*   **Scanning:** The images are then scanned by OCR software. On a basic level, the software scans each letter and matches the shape of it against a stored database of letters, selecting a character match based on the properties of each letter. This generates a machine-readable text output.\n",
        "*   **Cleaning:** Once you have an OCR output, this can be cleaned to minimise or remove errors, then saved and is ready to use.\n",
        "\n",
        "\n",
        "\n",
        "\n"
      ],
      "metadata": {
        "id": "A8NQn21EPEYO"
      }
    },
    {
      "cell_type": "markdown",
      "source": [
        "Extracted text improves accessibility as the output is machine-readable and can be compatible with text-to-speech technology, among other uses.  "
      ],
      "metadata": {
        "id": "jJrX4tHxP7zZ"
      }
    },
    {
      "cell_type": "markdown",
      "source": [
        "# **Document Selection and Pre-processing**"
      ],
      "metadata": {
        "id": "mvutqiSaQMc_"
      }
    },
    {
      "cell_type": "markdown",
      "source": [
        "## ✏️ *Activity 2*  \n",
        "\n",
        "\n",
        "*   Identify a dataset or item that you might use in your research that needs converting to machine-readable text. (You can find one online or use one you already have.)  \n",
        "*   Write a workflow of the steps you will take to obtain text from your dataset.\n",
        "*   Consider any problems, errors, or other obstacles you might encounter during this process. How might you address them?  \n",
        "\n",
        "\n",
        "\n",
        "\n",
        "\n"
      ],
      "metadata": {
        "id": "7Wcz0_MXQ4kV"
      }
    },
    {
      "cell_type": "markdown",
      "source": [
        "*Write your answer here:*"
      ],
      "metadata": {
        "id": "mZ6KcXupRdxt"
      }
    },
    {
      "cell_type": "markdown",
      "source": [
        "## Pre-processing\n",
        "\n",
        "Preparing your images or document for scanning can help to produce better text outputs after scanning. There are a few ways to do this. But ensuring that you have a good quality image from the outset means that you don’t need to edit and process your image too much from the beginning.  \n"
      ],
      "metadata": {
        "id": "IX7rG7RQR6Nw"
      }
    },
    {
      "cell_type": "markdown",
      "source": [
        "\n",
        "\n",
        "*   **Good quality image or document:** Taking a good quality image from the beginning is key – professionally digitised images in libraries or other cultural organisations often set a minimum DPI metric. DPI means ‘Dots Per Inch’ and means that every inch of an image contains a certain number of dots of ink. 300 DPI is often used as a benchmark for good quality printing reproducibility for photographs, but this may vary.  \n",
        "*   **File format:** You should also be mindful of the file format you choose. Some OCR engines will only accept certain file formats, so it is best to check this in advance; some will only use image files, whereas others will work on PDF files. Common image file types are TIFF, JPEG and PNG. TIFF files are lossless files, meaning that no image quality or information is lost; this means that TIFF images are usually high quality but also much larger file sizes. PNGs are also lossless, although TIFF files would be preferred over PNGs for OCR. JPEGs are a lossy format type, meaning that the image is compressed to create a smaller file size. OCR engines can work with JPEGs, but there may be a loss of image quality that can impact the text generation.  \n",
        "*   **Image colour:** The colour of your images can impact text quality too; colour images can be used, but ensure there is a sharp contrast between the background page and the text itself (for example black text on white or cream paper). Some OCR engines convert the inputted images to grayscale or a bi-tonal (meaning black and white) format to enable the engine to pick up the text more easily.\n",
        "*   **Text orientation:** The orientation of your text is also important in text recognition as the letters that your OCR engine tries to match against will be the ‘right’ way up and straight on the page, so making sure that the text in the documents you upload is ‘straight on’ in the document or image will produce the best results. Text on an angle, for example diagonally or on its side will be harder for the OCR engine to recognise correctly as the letters will be more difficult to identify.\n",
        "\n",
        "\n",
        "\n"
      ],
      "metadata": {
        "id": "C-jD-ZQnTcLe"
      }
    },
    {
      "cell_type": "markdown",
      "source": [
        "# **Problems and Errors**\n",
        "\n",
        "Unfortunately, text recognition is not a perfect process, and you are likely to encounter problems or errors in the text outputs. Accuracy will never be 100% - this may be due to the OCR engine itself, image quality, or due to the quality or features of the original document itself."
      ],
      "metadata": {
        "id": "dZ87As9VVDP_"
      }
    },
    {
      "cell_type": "markdown",
      "source": [
        "![](https://images.pexels.com/photos/4439425/pexels-photo-4439425.jpeg?auto=compress&cs=tinysrgb&w=1260&h=750&dpr=1)"
      ],
      "metadata": {
        "id": "-CVzJF3GhasK"
      }
    },
    {
      "cell_type": "markdown",
      "source": [
        "## Predictable Errors\n",
        "\n",
        "Programming patches can correct errors, but only if they are predictable.\n",
        "\n",
        "*   **Characters that appear similar** may be misrecognised, for example ‘cl’ and ‘d’, or ‘rn’ and ‘m’, which results in the incorrect substitution of a letter or letters. E.g. ‘clean’ becomes recognised as ‘dean’.\n",
        "*   **Different letter forms**, such as in some older historical materials a different form of 's' is used. This is called a long s and looks like this 'ſ', which is often mis-recognised as an 'f' character.\n",
        "E.g. ſleeve [sleeve] -> fleeve\n",
        "\n",
        "\n"
      ],
      "metadata": {
        "id": "kGonyhEdVU-U"
      }
    },
    {
      "cell_type": "markdown",
      "source": [
        "## Non-predictable Errors\n",
        "\n",
        "There are many other non-predictable ways that errors can be introduced into the text, including:\n",
        "\n",
        "*   The OCR engine incorrectly recognising text regions such as columns or margin formatting, meaning that text can sometimes get scrambled across columns or text can be cut off.\n",
        "*   The age and damage of scanned documents leads to errors, for example marks on the page being picked up as letters or punctuation by the software, resulting in incorrect characters being inserted where they do not exist in the text. This can also include where text is not clear in the scanned document, or the text is faint, which might lead to omissions or deletions where letters or words were not recognised by the software.  \n",
        "*   Human errors can occur in the text that you are trying to recognise, which may make the extracted text wrong – this may be due to the text containing spelling errors or misprinting, that are then recognised with the errors by the OCR software.\n",
        "*   More advanced text extraction software that recognises words in addition to the individual letter recognition may have difficulty with vocabulary not found in dictionaries, such as names of people or locations, or non-standard spellings in older historical texts.\n",
        "*   If the OCR engine encounters characters in languages it has not been trained on that could cause recognition errors.\n",
        "\n",
        "\n",
        "\n",
        "\n",
        "\n"
      ],
      "metadata": {
        "id": "9-bn5OT2YF33"
      }
    },
    {
      "cell_type": "markdown",
      "source": [
        "OCR has been developing at a significant rate over the past twenty years and newer OCR is faster and more accurate than older software, but it is still liable to errors."
      ],
      "metadata": {
        "id": "GICMHGOLYnJs"
      }
    },
    {
      "cell_type": "markdown",
      "source": [
        "## ✏️ *Activity 3*  \n",
        "\n",
        "*   Identify some issues you might encounter when OCRing the following documents.  \n",
        "*   Are there any steps you could take when preprocessing the document that might change the OCR output?\n",
        "\n"
      ],
      "metadata": {
        "id": "XJnrZo-EYr6M"
      }
    },
    {
      "cell_type": "markdown",
      "source": [
        "![](https://github.com/DCS-training/Image-to-Tech-Text-Extraction/blob/main/Github%20Images/Image1.jpg)\n"
      ],
      "metadata": {
        "id": "2TnaBMHr0BAq"
      }
    },
    {
      "cell_type": "markdown",
      "source": [
        "Document 1: image above from the Scottish Session Papers collection held by the University of Edinburgh, shelfmark [EUL0011](https://librarylabs.ed.ac.uk/iiif/uv/?manifest=https://librarylabs.ed.ac.uk/iiif/manifest/sessionpapers/volumes/EUL0011.json#?c=0&m=0&s=0&cv=21&xywh=-510%2C0%2C9022%2C5263) under a [CC BY 3.0](https://creativecommons.org/licenses/by/3.0/) licence."
      ],
      "metadata": {
        "id": "JwrEsB021DBz"
      }
    },
    {
      "cell_type": "markdown",
      "source": [
        "![](https://github.com/DCS-training/Image-to-Tech-Text-Extraction/blob/main/Github%20Images/Image2.jpg)"
      ],
      "metadata": {
        "id": "YGNsId7007AV"
      }
    },
    {
      "cell_type": "markdown",
      "source": [
        "Document 2: image above from the Scottish Session Papers collection held by the University of Edinburgh, shelfmark [EUL0281](https://librarylabs.ed.ac.uk/iiif/uv/?manifest=https://librarylabs.ed.ac.uk/iiif/manifest/sessionpapers/volumes/EUL0281.json#?c=0&m=0&s=0&cv=0&xywh=-2584%2C-252%2C8636%2C5038) under a [CC BY 3.0](https://creativecommons.org/licenses/by/3.0/) licence."
      ],
      "metadata": {
        "id": "qEuMQOuo1PsO"
      }
    },
    {
      "cell_type": "markdown",
      "source": [
        "# **Cleaning Your Text**\n",
        "\n",
        "There are a range of options for correcting OCR outputs and you will need to choose the one that works best for you and the resources you have available:\n",
        "\n",
        "*   **Manually:** Read through the text and manually change what needs to be changed – this is one option to create a high-quality text with your corrections, although you should be mindful of how much text you need to correct and how much time you can dedicate to this.  \n",
        "*   **Regex:** (or regular expressions) can be used to programmatically fix repetitive errors. Regex is essentially a type of shorthand code you can use to specify which parts of text you would like to target and how you would like to change these – we'll explore this more in the next few slides.\n",
        "*   **Patches and Machine Learning techniques**: Certain software have an embedded lexicon or dictionary that can be used to identify incorrect vocabulary and correct likely words based on the lexicon and calculated probability of correct words.\n",
        "\n",
        "\n",
        "\n",
        "\n"
      ],
      "metadata": {
        "id": "jcbm0j_3bSE3"
      }
    },
    {
      "cell_type": "markdown",
      "source": [
        "![](https://images.pexels.com/photos/6995439/pexels-photo-6995439.jpeg?auto=compress&cs=tinysrgb&w=1260&h=750&dpr=1)"
      ],
      "metadata": {
        "id": "NgU0U0Lfhy9r"
      }
    },
    {
      "cell_type": "markdown",
      "source": [
        "## Regular Expressions\n",
        "\n",
        "Regular expressions or regex are a way to identify and match patterns via code and is used in a range of different programming environments. Regex is a powerful way to find, manage and transform your data and files. It can seem a little scary and confusing at first, but when you simplify regex, it is just using sequences of characters to define a search to match strings. You can use regex to:\n",
        "*   Match types of characters (e.g. ‘upper case letters’, ‘digits’, ‘spaces’, etc.)  \n",
        "*   Match patterns that repeat any number of times\n",
        "\n"
      ],
      "metadata": {
        "id": "lw3hTn6Qbflm"
      }
    },
    {
      "cell_type": "markdown",
      "source": [
        "Regular expressions are built up using a series of symbols. There are far too many to remember off the top of your head, so online cheat sheets are your best option."
      ],
      "metadata": {
        "id": "zADs6X-ocJm4"
      }
    },
    {
      "cell_type": "markdown",
      "source": [
        "Here are some examples of what you can do with regex. Don't worry, you don't need to understand how this all works, but if you click the 'run' button at the left side of the code module it will run the code and show you the results."
      ],
      "metadata": {
        "id": "-OYSoOSssxmc"
      }
    },
    {
      "cell_type": "markdown",
      "source": [
        "This example is a simple search and replace where long 's' characters have been recognised, but we want to see modern 's' characters. In the below example, we know that all instances of 'ſ' need replacing with 's'.\n",
        "\n",
        "Our example text is \"Thiſ iſ my extracted text, but it doeſn't look right\""
      ],
      "metadata": {
        "id": "T3LjSoALuNpF"
      }
    },
    {
      "cell_type": "code",
      "source": [
        "#import re module\n",
        "import re\n",
        "\n",
        "#identify the text we wish to correct\n",
        "text = \"Thiſ iſ my extracted text, but it doeſn't look right\"\n",
        "\n",
        "#this is the pattern we want to find with the long 's' character\n",
        "pattern = r\"ſ\"\n",
        "\n",
        "#here we substitute the pattern (wrong character) for the right character - 'print' displays the corrections we have made\n",
        "print(re.sub(pattern, \"s\", text))"
      ],
      "metadata": {
        "colab": {
          "base_uri": "https://localhost:8080/"
        },
        "id": "A0khEReLl_MG",
        "outputId": "2eecf7df-2954-4bbb-fec9-7909bfa832e9"
      },
      "execution_count": 1,
      "outputs": [
        {
          "output_type": "stream",
          "name": "stdout",
          "text": [
            "This is my extracted text, but it doesn't look right\n"
          ]
        }
      ]
    },
    {
      "cell_type": "markdown",
      "source": [
        "This next example highlights how we can join up words that are split across lines with hyphens.\n",
        "\n",
        "Our example text is \"This is my ex-\n",
        "\n",
        "tracted text but now it is split\n",
        "a-\n",
        "\n",
        "cross lines"
      ],
      "metadata": {
        "id": "6xOB2Zvyvs3m"
      }
    },
    {
      "cell_type": "code",
      "source": [
        "#import re module\n",
        "import re\n",
        "\n",
        "#identify the text we wish to correct\n",
        "text1 = \"\"\"This is my ex-\n",
        "tracted text but now it is split a-\n",
        "cross lines\"\"\"\n",
        "\n",
        "#join hyphenated words across lines\n",
        "result = re.sub(r'-(\\n\\s*)?', '', text1)\n",
        "\n",
        "#display the result, removing the hyphens to join up the words\n",
        "print(result)"
      ],
      "metadata": {
        "colab": {
          "base_uri": "https://localhost:8080/"
        },
        "id": "NCDlECsKtw72",
        "outputId": "4bd6c55e-c87f-4c8c-fae7-8c20154c7a53"
      },
      "execution_count": null,
      "outputs": [
        {
          "output_type": "stream",
          "name": "stdout",
          "text": [
            "This is my extracted text but now it is split across lines\n"
          ]
        }
      ]
    },
    {
      "cell_type": "markdown",
      "source": [
        "## ✏️ *Activity 4*  \n",
        " Now we're going to try some OCR ourselves with out-of-the-box options. Choose a pdf that contains text and try uploading it into some of these online programmes:\n",
        "*   https://tools.pdf24.org/en/ocr-pdf   \n",
        "*   https://www.onlineocr.net/   \n",
        "*   https://www.sodapdf.com/ocr-pdf/   \n",
        "*   https://www.sejda.com/ocr-pdf   \n",
        "*   https://ocr.space/   \n",
        "*   https://avepdf.com/pdf-ocr   \n",
        "\n",
        "\n",
        "\n",
        "\n",
        "\n",
        "\n",
        "\n"
      ],
      "metadata": {
        "id": "a089BvORcV43"
      }
    },
    {
      "cell_type": "markdown",
      "source": [
        "\n",
        "\n",
        "*   Compare your results - which performed best?\n",
        "*   What are the limitations of these options?\n",
        "\n",
        "\n"
      ],
      "metadata": {
        "id": "fJ28M7EXeUpn"
      }
    },
    {
      "cell_type": "markdown",
      "source": [
        "# **Handwritten Text Recognition**\n",
        "\n",
        "**H**andrwitten **T**ext **R**ecognition (HTR) is another method of text extraction, although it is in the earlier stages of development than OCR is.\n",
        "Unlike OCR, which is best used on printed text, HTR engines are designed to be run on handwritten text and often use machine learning models to intelligently recognise text.\n"
      ],
      "metadata": {
        "id": "3dchfHlWiJm2"
      }
    },
    {
      "cell_type": "markdown",
      "source": [
        "![](https://images.pexels.com/photos/51159/letter-handwriting-family-letters-written-51159.jpeg?auto=compress&cs=tinysrgb&w=1260&h=750&dpr=1)"
      ],
      "metadata": {
        "id": "nT-vFlf7jf9C"
      }
    },
    {
      "cell_type": "markdown",
      "source": [
        "## ✏️ *Activity 5*  \n",
        "\n",
        "[Transkribus](https://readcoop.eu/transkribus/) is one of the leading options in HTR; although designed for handwritten text, it can also be used on printed text.\n",
        "\n",
        "*   Try uploading an image (PNG or JPG) of handwritten and/or printed text to their website https://readcoop.eu/transkribus/\n",
        "\n",
        "*   How does changing the language used impact your results?\n",
        "\n",
        "\n",
        "**Disclaimer*: Transkribus operates on a paid credit model, but the test option outlined above is free. Sign up is free and includes a small number of credits when [joining](https://readcoop.eu/transkribus/credits/).\n",
        "\n"
      ],
      "metadata": {
        "id": "1bqz82-N2A1k"
      }
    },
    {
      "cell_type": "markdown",
      "source": [
        "# **Resources List**\n",
        "\n",
        "**Tutorials**\n",
        "\n",
        "Centre for Data, Culture and Society. \"Text Extraction & Preparation,\" Managing Digitised Documents (2022), https://www.cdcs.ed.ac.uk/training/training-pathways/managing-digitised-documents-pathway [accessed 23 July 2023].\n",
        "\n",
        "Knox, Doug. \"Understanding Regular Expressions,\" Programming Historian 2 (2013), https://doi.org/10.46430/phen0033 [accessed 23 July 2023].\n",
        "\n",
        "Turner O'Hara, Laura. \"Cleaning OCR’d text with Regular Expressions,\" Programming Historian 2 (2013), https://doi.org/10.46430/phen0024 [accessed 23 July 2023].\n",
        "\n",
        "Library Carpentry. \"Introduction to Working with Data (Regular Expressions)\" (2023), https://librarycarpentry.org/lc-data-intro/01-regular-expressions.html [accessed 23 July 2023].\n",
        "\n",
        "---\n",
        "**Readings**\n",
        "\n",
        "Cordell, Ryan. ‘“Q i-Jtb the Raven”: Taking Dirty OCR Seriously’. Book History 20, no. 1 (2017): 188–225. https://doi.org/10.1353/bh.2017.0006 [accessed 23 July 2023].\n",
        "\n",
        "Schantz, Herbert F. The History of OCR, Optical Character Recognition. [Manchester Center, Vt.] : Recognition Technologies Users Association, (1982) http://archive.org/details/historyofocropti0000scha [accessed 23 July 2023].\n"
      ],
      "metadata": {
        "id": "Jh1bgAvnxJwx"
      }
    },
    {
      "cell_type": "markdown",
      "source": [
        "# **Activity Notes**\n",
        "\n",
        "\n",
        "## ✏️ Activity 1\n",
        "Even if you have not heard of OCR or are not sure if you have used it, you probably have! Here are some real-world examples of text recognition uses:\n",
        "\n",
        "*   Using the airport’s e-Passport Gates\n",
        "*   Translating text with language recognition\n",
        "*   Searching a digital database of historical public records\n",
        "*   Searching a PDF file\n",
        "\n",
        "## ✏️ Activity 2\n",
        "If you are not sure what to choose as your dataset, imagine you are digitising a book; think of your favourite book or try browsing the following website to find examples you could use:\n",
        "\n",
        "*   https://openbooks.is.ed.ac.uk/\n",
        "\n",
        "Don't forget that the type of materials you choose will impact your OCR, and different material types might need slightly different considerations for selecting OCR software or anticipating problems.\n",
        "\n",
        "\n",
        "\n",
        "## ✏️ Activity 3\n",
        "This list is not exhaustive but will cover some of the potential issues you might have picked out:\n",
        "\n",
        "Document 1:\n",
        "\n",
        "*   There are marks on the top left of the page that might be picked up by accident\n",
        "*   The text uses the long 's' form that may be mistaken for an 'f'\n",
        "*   You can see text coming through from other pages, depending on the OCR engine, this could be picked up\n",
        "*   Sometimes spacing between letters can cause issues, and the individual letters will be picked up rather than the entire word, for example with 'PETITION'\n",
        "\n",
        "Overall the image is clear, there is a good light balance and the text is quite straight on the page.\n",
        "\n",
        "Document 2:\n",
        "\n",
        "*   There are lots of marks and darlk spots on the page that may be picked up by the text recognition\n",
        "*   There are lots of creases in the page, meaning that some of the lettering is a little warped and may not be picked up correctly\n",
        "*   There is some text coming through from the other side of the page, although this is not as dark as in the previous example\n",
        "*   Some of the writing is very small and appears to be smudged in printing, which may mean that letters are misrecognised\n",
        "\n",
        "Overall, the text looks clear in some places, however the physical condition of the item is likely to impact the OCR done on this item due to the creases and marks on the page.\n",
        "\n",
        "## ✏️ Activity 4\n",
        "Any text extraction software or programme you decide to use will need to be evaluated - was it effective for the materials, or if not, why not? The limitations of OCR outputs are important to consider too - if you are only looking at a small quantity of text then you may be able to manually correct as much as you need to. If you are working with larger quantities of text this may not be the case and you will need to choose the best-performing option and do additional clean up with programming, or establish a suitable level of acceptable errors.\n",
        "\n",
        "\n",
        "## ✏️ Activity 5\n",
        "Transkribus has models designed for handwriting and print because they are trained on either handwritten text or printed text, to produce the vest results possible for the different types of materials. The same goes for different languages and some of the models distinguish between different fonts or handwriting types. If you play around with the model types and images you use, you should see a difference in output quality.\n",
        "\n",
        "\n",
        "\n",
        "\n",
        "\n",
        "\n"
      ],
      "metadata": {
        "id": "1qDfI1cqDHI3"
      }
    }
  ]
}